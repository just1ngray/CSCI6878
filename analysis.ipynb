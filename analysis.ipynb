{
 "cells": [
  {
   "cell_type": "code",
   "execution_count": 124,
   "metadata": {},
   "outputs": [],
   "source": [
    "\"\"\"\n",
    "Imports\n",
    "\"\"\"\n",
    "\n",
    "import json\n",
    "from copy import deepcopy\n",
    "from typing import Iterable, Union\n",
    "from enum import Enum, auto\n",
    "\n",
    "import matplotlib.pyplot as plt\n",
    "from tqdm import tqdm\n",
    "\n",
    "from src.github_graph import *\n",
    "from src.db import db"
   ]
  },
  {
   "cell_type": "code",
   "execution_count": 125,
   "metadata": {},
   "outputs": [
    {
     "name": "stdout",
     "output_type": "stream",
     "text": [
      "  347,255 contributors\n",
      "+ 978 repositories\n",
      "= 348,233 nodes\n",
      "\n",
      "466,805 edges\n"
     ]
    }
   ],
   "source": [
    "\"\"\"\n",
    "Load the graph into memory and print basic statistics\n",
    "\"\"\"\n",
    "\n",
    "graph = GitHubBipartiteGraph.from_database(db())\n",
    "\n",
    "print(f\"\"\"\\\n",
    "  {len(graph.contributors):,} contributors\n",
    "+ {len(graph.repositories):,} repositories\n",
    "= {len(graph.contributors) + len(graph.repositories):,} nodes\n",
    "\"\"\")\n",
    "print(f\"{len(graph.contributes_to):,} edges\")"
   ]
  },
  {
   "cell_type": "code",
   "execution_count": 126,
   "metadata": {},
   "outputs": [],
   "source": [
    "\"\"\"\n",
    "Make the graph easier to work with\n",
    "\"\"\"\n",
    "\n",
    "# some_user/their_project => Repository\n",
    "repos: dict[str, Repository] = {f\"{r.owner}/{r.project}\": r for r in graph.repositories}\n",
    "\n",
    "# {user emails}\n",
    "users: set[str] = graph.contributors.copy()\n",
    "\n",
    "# edges\n",
    "repo_to_users: dict[Repository, dict[str, int]] = {}\n",
    "user_to_repos: dict[str, dict[Repository, int]] = {}\n",
    "\n",
    "rank_to_repo = {r.rank: r for r in graph.repositories}\n",
    "for edge in graph.contributes_to:\n",
    "    repo = rank_to_repo[edge.repository_rank]\n",
    "    current_users = repo_to_users.get(repo, dict())\n",
    "    current_users[edge.contributor_email] = edge.ncommits\n",
    "    repo_to_users[repo] = current_users\n",
    "    \n",
    "    current_repos = user_to_repos.get(edge.contributor_email, dict())\n",
    "    current_repos[repo] = edge.ncommits\n",
    "    user_to_repos[edge.contributor_email] = current_repos"
   ]
  },
  {
   "cell_type": "code",
   "execution_count": 127,
   "metadata": {},
   "outputs": [],
   "source": [
    "class DistributionMethod(Enum):\n",
    "    COUNT = auto()\n",
    "    PROPORTION = auto()\n",
    "\n",
    "def cumulative_distribution(dist: Iterable[Union[int, float]], \n",
    "                            method: DistributionMethod=DistributionMethod.PROPORTION\n",
    "                           ) -> Iterable[tuple[int, int]]:\n",
    "    \"\"\"\n",
    "    Finds how many items are greater than or equal to each unique value in dist.\n",
    "\n",
    "    Args:\n",
    "        dist:   a distribution of numbers\n",
    "        method: (optional) decides if the returned y values should be counts or propotions\n",
    "\n",
    "    Returns:\n",
    "        tuple x, y ready for plotting\n",
    "    \"\"\"\n",
    "    cpy = list(dist).copy()\n",
    "    cpy.sort()\n",
    "    \n",
    "    x = []\n",
    "    y = []\n",
    "\n",
    "    i = 0\n",
    "    while i < len(cpy):\n",
    "        val = cpy[i]\n",
    "        num_val = 1\n",
    "        while i+1 < len(cpy) and val == cpy[i+1]:\n",
    "            i += 1\n",
    "            num_val += 1\n",
    "        i += 1\n",
    "\n",
    "        x.append(val)\n",
    "        y.append(len(cpy) - i + num_val)\n",
    "\n",
    "    if method == DistributionMethod.PROPORTION:\n",
    "        tot = sum(y)\n",
    "        for i, val in enumerate(y):\n",
    "            y[i] = val / tot\n",
    "    elif method != DistributionMethod.COUNT:\n",
    "        raise ValueError(f\"Unrecognized method {method}\")\n",
    "\n",
    "    return x, y"
   ]
  },
  {
   "cell_type": "code",
   "execution_count": 128,
   "metadata": {},
   "outputs": [
    {
     "data": {
      "image/png": "[encoded data removed]",
      "text/plain": [
       "<Figure size 432x288 with 1 Axes>"
      ]
     },
     "metadata": {
      "needs_background": "light"
     },
     "output_type": "display_data"
    },
    {
     "data": {
      "image/png": "[encoded data removed]",
      "text/plain": [
       "<Figure size 432x288 with 1 Axes>"
      ]
     },
     "metadata": {
      "needs_background": "light"
     },
     "output_type": "display_data"
    },
    {
     "data": {
      "image/png": "[encoded data removed]",
      "text/plain": [
       "<Figure size 432x288 with 1 Axes>"
      ]
     },
     "metadata": {
      "needs_background": "light"
     },
     "output_type": "display_data"
    }
   ],
   "source": [
    "\"\"\"\n",
    "How many contributors (& commits) does each repository have?\n",
    "\"\"\"\n",
    "\n",
    "num_contributors = [len(users) for users in repo_to_users.values()]\n",
    "\n",
    "x, y = cumulative_distribution(num_contributors)\n",
    "plt.plot(x, y)\n",
    "plt.show()\n",
    "\n",
    "plt.plot(x, y)\n",
    "plt.xscale(\"log\")\n",
    "plt.yscale(\"log\")\n",
    "plt.show()\n",
    "\n",
    "\n",
    "num_commits = [sum(users.values()) for users in repo_to_users.values()]\n",
    "x, y = cumulative_distribution(num_commits)\n",
    "plt.plot(x, y)\n",
    "plt.xscale(\"log\")\n",
    "plt.yscale(\"log\")\n",
    "plt.show()"
   ]
  },
  {
   "cell_type": "code",
   "execution_count": 129,
   "metadata": {},
   "outputs": [
    {
     "data": {
      "image/png": "[encoded data removed]",
      "text/plain": [
       "<Figure size 432x288 with 1 Axes>"
      ]
     },
     "metadata": {
      "needs_background": "light"
     },
     "output_type": "display_data"
    }
   ],
   "source": [
    "\"\"\"\n",
    "How many stars does each repository have?\n",
    "\"\"\"\n",
    "\n",
    "num_stars = [r.stars for r in repos.values()]\n",
    "x, y = cumulative_distribution(num_stars)\n",
    "plt.plot(x, y)\n",
    "plt.xscale(\"log\")\n",
    "plt.yscale(\"log\")\n",
    "plt.show()"
   ]
  },
  {
   "cell_type": "code",
   "execution_count": 130,
   "metadata": {},
   "outputs": [
    {
     "data": {
      "image/png": "[encoded data removed]",
      "text/plain": [
       "<Figure size 432x288 with 1 Axes>"
      ]
     },
     "metadata": {
      "needs_background": "light"
     },
     "output_type": "display_data"
    },
    {
     "data": {
      "image/png": "[encoded data removed]",
      "text/plain": [
       "<Figure size 432x288 with 1 Axes>"
      ]
     },
     "metadata": {
      "needs_background": "light"
     },
     "output_type": "display_data"
    }
   ],
   "source": [
    "\"\"\"\n",
    "How many commits has each user made? (to repositories in our list)\n",
    "\"\"\"\n",
    "num_repos_user_commits_to = [len(user.values()) for user in user_to_repos.values()]\n",
    "x, y = cumulative_distribution(num_repos_user_commits_to)\n",
    "plt.plot(x, y)\n",
    "plt.xscale(\"log\")\n",
    "plt.yscale(\"log\")\n",
    "plt.show()\n",
    "\n",
    "num_commits_per_user_to_any_tracked_repo = [sum(user.values()) for user in user_to_repos.values()]\n",
    "x, y = cumulative_distribution(num_commits_per_user_to_any_tracked_repo)\n",
    "plt.plot(x, y)\n",
    "plt.xscale(\"log\")\n",
    "plt.yscale(\"log\")\n",
    "plt.show()"
   ]
  },
  {
   "cell_type": "code",
   "execution_count": 131,
   "metadata": {},
   "outputs": [
    {
     "name": "stdout",
     "output_type": "stream",
     "text": [
      "  1,604 contributors\n",
      "+ 738 repositories\n",
      "= 2,342 nodes\n",
      "\n",
      "5,252 edges\n"
     ]
    }
   ],
   "source": [
    "\"\"\"\n",
    "Find the \"open source superstars\" who have at least n commits to any repository\n",
    "\"\"\"\n",
    "n = 1000\n",
    "\n",
    "superstars = {user: sum(repos.values()) for (user, repos) in user_to_repos.items()\n",
    "                                        if sum(repos.values()) > n}\n",
    "g = deepcopy(graph)\n",
    "g.contributors = set(c for c in g.contributors if c.email in superstars)\n",
    "g.contributes_to = set(edge for edge in g.contributes_to if edge.contributor_email in superstars)\n",
    "repo_ranks_with_superstars = set(edge.repository_rank for edge in g.contributes_to)\n",
    "g.repositories = set(repo for repo in g.repositories if repo.rank in repo_ranks_with_superstars)\n",
    "\n",
    "print(f\"\"\"\\\n",
    "  {len(g.contributors):,} contributors\n",
    "+ {len(g.repositories):,} repositories\n",
    "= {len(g.contributors) + len(g.repositories):,} nodes\n",
    "\"\"\")\n",
    "print(f\"{len(g.contributes_to):,} edges\")\n",
    "\n",
    "with open(\"tmp/superstars.json\", \"w\", encoding=\"utf-8\") as handle:\n",
    "    handle.write(g.to_json())"
   ]
  },
  {
   "cell_type": "code",
   "execution_count": 136,
   "metadata": {},
   "outputs": [
    {
     "name": "stderr",
     "output_type": "stream",
     "text": [
      "100%|██████████| 978/978 [00:15<00:00, 63.80it/s] \n"
     ]
    }
   ],
   "source": [
    "\"\"\"\n",
    "Repository analysis by projecting the bipartite graph onto the repositories.\n",
    "Repositories A and B are linked if they share some contributor(s). Edge weight is the number of contributors they share.\n",
    "\"\"\"\n",
    "\n",
    "# (rank1, rank2) => num_users   ... rank1 < rank2\n",
    "proj: dict[tuple[int, int], int] = {}\n",
    "proj_repos = sorted(repos.values(), key=lambda r: r.rank)\n",
    "\n",
    "for repo2 in tqdm(proj_repos):\n",
    "    users2 = set(repo_to_users.get(repo2, {}).keys())\n",
    "    for repo1 in proj_repos:\n",
    "        if repo1.rank >= repo2.rank:\n",
    "            break\n",
    "\n",
    "        common_users = users2.intersection(repo_to_users[repo1].keys())\n",
    "        if len(common_users) > 0:\n",
    "            key = (repo1.rank, repo2.rank)\n",
    "            proj[key] = proj.get(key, 0) + len(common_users)"
   ]
  },
  {
   "cell_type": "code",
   "execution_count": 133,
   "metadata": {},
   "outputs": [
    {
     "name": "stdout",
     "output_type": "stream",
     "text": [
      "Nodes: 978\n",
      "Edges: 1170\n"
     ]
    }
   ],
   "source": [
    "\"\"\"\n",
    "Write json for Cytoscape import.\n",
    "Filter edges for weight >= n.\n",
    "\"\"\"\n",
    "n = 25\n",
    "filtered_proj_edes = {k: v for (k, v) in proj.items() if v >= n}\n",
    "\n",
    "with open(\"tmp/repo_proj.json\", \"w\", encoding=\"utf-8\") as handle:\n",
    "    json.dump({\n",
    "        \"elements\": {\n",
    "            \"nodes\": [\n",
    "                *[\n",
    "                    {\n",
    "                        \"data\": {\n",
    "                            \"id\": str(repo.rank),\n",
    "                            \"label\": f\"{repo.owner}/{repo.project}\",\n",
    "                            \"type\": \"repository\",\n",
    "                            \"owner\": f\"{repo.owner}\",\n",
    "                            \"project\": f\"{repo.project}\",\n",
    "                            \"stars\": repo.stars,\n",
    "                            \"primary_language\": max(repo.languages, key=lambda lang: repo.languages[lang]),\n",
    "                            **repo.languages\n",
    "                        }\n",
    "                    } for repo in proj_repos\n",
    "                ],\n",
    "            ],\n",
    "            \"edges\": [\n",
    "                {\n",
    "                    \"data\": {\n",
    "                        \"id\": i,\n",
    "                        \"source\": str(repo1),\n",
    "                        \"target\": str(repo2),\n",
    "                        \"weight\": common_users\n",
    "                    }\n",
    "                } for i, ((repo1, repo2), common_users) in enumerate(filtered_proj_edes.items())\n",
    "            ]\n",
    "        }\n",
    "    }, handle, indent=2)\n",
    "\n",
    "print(f\"Nodes: {len(proj_repos)}\")\n",
    "print(f\"Edges: {len(filtered_proj_edes)}\")"
   ]
  },
  {
   "cell_type": "code",
   "execution_count": 134,
   "metadata": {},
   "outputs": [
    {
     "data": {
      "image/png": "[encoded data removed]",
      "text/plain": [
       "<Figure size 432x288 with 1 Axes>"
      ]
     },
     "metadata": {
      "needs_background": "light"
     },
     "output_type": "display_data"
    }
   ],
   "source": [
    "x, y = cumulative_distribution(proj.values())\n",
    "plt.plot(x, y)\n",
    "plt.xscale(\"log\")\n",
    "plt.yscale(\"log\")\n",
    "plt.show()\n"
   ]
  }
 ],
 "metadata": {
  "kernelspec": {
   "display_name": "Python 3.10.4 64-bit ('3.10.4')",
   "language": "python",
   "name": "python3"
  },
  "language_info": {
   "codemirror_mode": {
    "name": "ipython",
    "version": 3
   },
   "file_extension": ".py",
   "mimetype": "text/x-python",
   "name": "python",
   "nbconvert_exporter": "python",
   "pygments_lexer": "ipython3",
   "version": "3.10.4"
  },
  "orig_nbformat": 4,
  "vscode": {
   "interpreter": {
    "hash": "36476878e51133d14768e2ad17858e1aca0a5bc1f59911bf829216c2e9d7f710"
   }
  }
 },
 "nbformat": 4,
 "nbformat_minor": 2
}
